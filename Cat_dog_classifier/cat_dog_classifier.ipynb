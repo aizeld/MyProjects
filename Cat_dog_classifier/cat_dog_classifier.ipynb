{
 "cells": [
  {
   "cell_type": "code",
   "execution_count": null,
   "metadata": {},
   "outputs": [],
   "source": [
    "import os, shutil, pathlib"
   ]
  },
  {
   "cell_type": "markdown",
   "metadata": {},
   "source": [
    "YOU CAN DOWNLOAD dogs_cats from here https://www.kaggle.com/c/dogs-vs-cats"
   ]
  },
  {
   "cell_type": "code",
   "execution_count": null,
   "metadata": {},
   "outputs": [],
   "source": [
    "original_path = pathlib.Path(\"../dataset/dogs_cats/train/train\") # place a right path for your dataset \n",
    "new_base = pathlib.Path(\"cat_dogs_small\")"
   ]
  },
  {
   "cell_type": "code",
   "execution_count": null,
   "metadata": {},
   "outputs": [],
   "source": [
    "def make_subset(subset_name, start, end):\n",
    "    for category in (\"cat\", \"dog\"):\n",
    "        dir = new_base / subset_name / category\n",
    "        os.makedirs(dir)\n",
    "        fnames = [f\"{category}.{i}.jpg\" for i in range(start, end)]\n",
    "        for fname in fnames:\n",
    "            shutil.copyfile(src = original_path / fname, dst = dir/fname)\n"
   ]
  },
  {
   "cell_type": "code",
   "execution_count": null,
   "metadata": {},
   "outputs": [],
   "source": [
    "make_subset(\"train\", start = 0, end = 1000)\n",
    "make_subset(\"validation\", start = 100, end = 1500)\n",
    "make_subset(\"test\", start = 1500, end = 2500)"
   ]
  },
  {
   "cell_type": "code",
   "execution_count": 1,
   "metadata": {},
   "outputs": [
    {
     "name": "stdout",
     "output_type": "stream",
     "text": [
      "WARNING:tensorflow:From c:\\Users\\Asilk\\anaconda3\\lib\\site-packages\\keras\\src\\losses.py:2976: The name tf.losses.sparse_softmax_cross_entropy is deprecated. Please use tf.compat.v1.losses.sparse_softmax_cross_entropy instead.\n",
      "\n"
     ]
    }
   ],
   "source": [
    "import keras\n",
    "from keras import layers\n"
   ]
  },
  {
   "cell_type": "code",
   "execution_count": 11,
   "metadata": {},
   "outputs": [],
   "source": [
    "inputs = keras.Input(shape=(180, 180, 3)) \n",
    "x = layers.Rescaling(1./255)(inputs) \n",
    "x = layers.Conv2D(filters=32, kernel_size=3, activation=\"relu\")(x)\n",
    "x = layers.MaxPooling2D(pool_size=2)(x)\n",
    "x = layers.Conv2D(filters=64, kernel_size=3, activation=\"relu\")(x)\n",
    "x = layers.MaxPooling2D(pool_size=2)(x)\n",
    "x = layers.Conv2D(filters=128, kernel_size=3, activation=\"relu\")(x)\n",
    "x = layers.MaxPooling2D(pool_size=2)(x)\n",
    "x = layers.Conv2D(filters=256, kernel_size=3, activation=\"relu\")(x)\n",
    "x = layers.MaxPooling2D(pool_size=2)(x)\n",
    "x = layers.Conv2D(filters=256, kernel_size=3, activation=\"relu\")(x)\n",
    "x = layers.Flatten()(x)\n",
    "outputs = layers.Dense(1, activation=\"sigmoid\")(x)\n",
    "\n"
   ]
  },
  {
   "cell_type": "code",
   "execution_count": 12,
   "metadata": {},
   "outputs": [
    {
     "name": "stdout",
     "output_type": "stream",
     "text": [
      "Model: \"model_2\"\n",
      "_________________________________________________________________\n",
      " Layer (type)                Output Shape              Param #   \n",
      "=================================================================\n",
      " input_2 (InputLayer)        [(None, 180, 180, 3)]     0         \n",
      "                                                                 \n",
      " rescaling_1 (Rescaling)     (None, 180, 180, 3)       0         \n",
      "                                                                 \n",
      " conv2d_5 (Conv2D)           (None, 178, 178, 32)      896       \n",
      "                                                                 \n",
      " max_pooling2d_4 (MaxPoolin  (None, 89, 89, 32)        0         \n",
      " g2D)                                                            \n",
      "                                                                 \n",
      " conv2d_6 (Conv2D)           (None, 87, 87, 64)        18496     \n",
      "                                                                 \n",
      " max_pooling2d_5 (MaxPoolin  (None, 43, 43, 64)        0         \n",
      " g2D)                                                            \n",
      "                                                                 \n",
      " conv2d_7 (Conv2D)           (None, 41, 41, 128)       73856     \n",
      "                                                                 \n",
      " max_pooling2d_6 (MaxPoolin  (None, 20, 20, 128)       0         \n",
      " g2D)                                                            \n",
      "                                                                 \n",
      " conv2d_8 (Conv2D)           (None, 18, 18, 256)       295168    \n",
      "                                                                 \n",
      " max_pooling2d_7 (MaxPoolin  (None, 9, 9, 256)         0         \n",
      " g2D)                                                            \n",
      "                                                                 \n",
      " conv2d_9 (Conv2D)           (None, 7, 7, 256)         590080    \n",
      "                                                                 \n",
      " flatten_1 (Flatten)         (None, 12544)             0         \n",
      "                                                                 \n",
      " dense_1 (Dense)             (None, 1)                 12545     \n",
      "                                                                 \n",
      "=================================================================\n",
      "Total params: 991041 (3.78 MB)\n",
      "Trainable params: 991041 (3.78 MB)\n",
      "Non-trainable params: 0 (0.00 Byte)\n",
      "_________________________________________________________________\n"
     ]
    }
   ],
   "source": [
    "model = keras.Model(inputs = inputs, outputs = outputs)\n",
    "model.summary()"
   ]
  },
  {
   "cell_type": "code",
   "execution_count": 13,
   "metadata": {},
   "outputs": [],
   "source": [
    "model.compile(optimizer='rmsprop', loss = 'binary_crossentropy', metrics = ['accuracy'])"
   ]
  },
  {
   "cell_type": "markdown",
   "metadata": {},
   "source": [
    "DATA PREPROCESSING"
   ]
  },
  {
   "cell_type": "code",
   "execution_count": 5,
   "metadata": {},
   "outputs": [],
   "source": [
    "from keras.utils import image_dataset_from_directory as idfd"
   ]
  },
  {
   "cell_type": "code",
   "execution_count": 6,
   "metadata": {},
   "outputs": [
    {
     "name": "stdout",
     "output_type": "stream",
     "text": [
      "Found 2000 files belonging to 2 classes.\n",
      "Found 2000 files belonging to 2 classes.\n",
      "Found 2800 files belonging to 2 classes.\n"
     ]
    }
   ],
   "source": [
    "\n",
    "train_dataset = idfd(directory=\"C:/Users/Asilk/Desktop/Journey/dataset/cat_dogs_small/train/\", batch_size=32, image_size=(180, 180))\n",
    "\n",
    "test_dataset = idfd(directory=\"C:/Users/Asilk/Desktop/Journey/dataset/cat_dogs_small/test/\", batch_size=32, image_size=(180, 180))\n",
    "\n",
    "val_dataset = idfd(directory=\"C:/Users/Asilk/Desktop/Journey/dataset/cat_dogs_small/validation/\", batch_size=32, image_size=(180, 180))"
   ]
  },
  {
   "cell_type": "code",
   "execution_count": 7,
   "metadata": {},
   "outputs": [
    {
     "name": "stdout",
     "output_type": "stream",
     "text": [
      "(32, 180, 180, 3)\n",
      "(32,)\n"
     ]
    }
   ],
   "source": [
    "for data_batch ,labels_batch in train_dataset:\n",
    "    print(data_batch.shape)\n",
    "    print(labels_batch.shape)\n",
    "    break"
   ]
  },
  {
   "cell_type": "code",
   "execution_count": 8,
   "metadata": {},
   "outputs": [],
   "source": [
    "callbacks = [\n",
    "    keras.callbacks.ModelCheckpoint(\n",
    "        filepath='convnet_from_scratch.keras',\n",
    "        save_best_only=True,\n",
    "        monitor = 'val_loss'\n",
    "    )\n",
    "]"
   ]
  },
  {
   "cell_type": "code",
   "execution_count": 14,
   "metadata": {},
   "outputs": [
    {
     "name": "stdout",
     "output_type": "stream",
     "text": [
      "Epoch 1/20\n"
     ]
    },
    {
     "name": "stdout",
     "output_type": "stream",
     "text": [
      "WARNING:tensorflow:From c:\\Users\\Asilk\\anaconda3\\lib\\site-packages\\keras\\src\\utils\\tf_utils.py:492: The name tf.ragged.RaggedTensorValue is deprecated. Please use tf.compat.v1.ragged.RaggedTensorValue instead.\n",
      "\n",
      "WARNING:tensorflow:From c:\\Users\\Asilk\\anaconda3\\lib\\site-packages\\keras\\src\\engine\\base_layer_utils.py:384: The name tf.executing_eagerly_outside_functions is deprecated. Please use tf.compat.v1.executing_eagerly_outside_functions instead.\n",
      "\n",
      "63/63 [==============================] - 34s 534ms/step - loss: 0.6994 - accuracy: 0.5005 - val_loss: 0.6920 - val_accuracy: 0.5000\n",
      "Epoch 2/20\n",
      "63/63 [==============================] - 34s 539ms/step - loss: 0.6940 - accuracy: 0.5345 - val_loss: 0.6907 - val_accuracy: 0.5443\n",
      "Epoch 3/20\n",
      "63/63 [==============================] - 33s 527ms/step - loss: 0.6899 - accuracy: 0.5570 - val_loss: 0.6656 - val_accuracy: 0.6075\n",
      "Epoch 4/20\n",
      "63/63 [==============================] - 32s 516ms/step - loss: 0.6548 - accuracy: 0.6150 - val_loss: 0.6705 - val_accuracy: 0.6193\n",
      "Epoch 5/20\n",
      "63/63 [==============================] - 30s 483ms/step - loss: 0.6116 - accuracy: 0.6575 - val_loss: 0.8330 - val_accuracy: 0.5843\n",
      "Epoch 6/20\n",
      "63/63 [==============================] - 32s 501ms/step - loss: 0.5864 - accuracy: 0.6760 - val_loss: 0.6433 - val_accuracy: 0.6196\n",
      "Epoch 7/20\n",
      "63/63 [==============================] - 30s 480ms/step - loss: 0.5660 - accuracy: 0.6970 - val_loss: 0.5364 - val_accuracy: 0.7229\n",
      "Epoch 8/20\n",
      "63/63 [==============================] - 30s 477ms/step - loss: 0.5382 - accuracy: 0.7265 - val_loss: 1.3562 - val_accuracy: 0.6200\n",
      "Epoch 9/20\n",
      "63/63 [==============================] - 30s 477ms/step - loss: 0.5089 - accuracy: 0.7530 - val_loss: 0.5207 - val_accuracy: 0.7371\n",
      "Epoch 10/20\n",
      "63/63 [==============================] - 30s 479ms/step - loss: 0.4700 - accuracy: 0.7690 - val_loss: 0.4769 - val_accuracy: 0.7721\n",
      "Epoch 11/20\n",
      "63/63 [==============================] - 30s 477ms/step - loss: 0.4375 - accuracy: 0.8015 - val_loss: 0.5201 - val_accuracy: 0.7618\n",
      "Epoch 12/20\n",
      "63/63 [==============================] - 30s 477ms/step - loss: 0.3902 - accuracy: 0.8215 - val_loss: 0.4299 - val_accuracy: 0.8046\n",
      "Epoch 13/20\n",
      "63/63 [==============================] - 30s 477ms/step - loss: 0.3604 - accuracy: 0.8420 - val_loss: 0.4233 - val_accuracy: 0.8125\n",
      "Epoch 14/20\n",
      "63/63 [==============================] - 31s 491ms/step - loss: 0.3122 - accuracy: 0.8625 - val_loss: 0.3594 - val_accuracy: 0.8429\n",
      "Epoch 15/20\n",
      "63/63 [==============================] - 31s 490ms/step - loss: 0.2685 - accuracy: 0.8940 - val_loss: 0.3349 - val_accuracy: 0.8711\n",
      "Epoch 16/20\n",
      "63/63 [==============================] - 31s 491ms/step - loss: 0.2078 - accuracy: 0.9165 - val_loss: 0.4902 - val_accuracy: 0.8404\n",
      "Epoch 17/20\n",
      "63/63 [==============================] - 31s 489ms/step - loss: 0.1756 - accuracy: 0.9305 - val_loss: 0.4627 - val_accuracy: 0.8400\n",
      "Epoch 18/20\n",
      "63/63 [==============================] - 31s 487ms/step - loss: 0.1537 - accuracy: 0.9400 - val_loss: 0.3553 - val_accuracy: 0.8900\n",
      "Epoch 19/20\n",
      "63/63 [==============================] - 31s 487ms/step - loss: 0.1005 - accuracy: 0.9655 - val_loss: 0.3706 - val_accuracy: 0.9011\n",
      "Epoch 20/20\n",
      "63/63 [==============================] - 34s 535ms/step - loss: 0.0910 - accuracy: 0.9645 - val_loss: 0.4623 - val_accuracy: 0.8871\n"
     ]
    }
   ],
   "source": [
    "history = model.fit(x=train_dataset, epochs =20, validation_data= val_dataset, callbacks = callbacks)"
   ]
  },
  {
   "cell_type": "code",
   "execution_count": 21,
   "metadata": {},
   "outputs": [
    {
     "data": {
      "text/plain": [
       "<matplotlib.legend.Legend at 0x214e9263070>"
      ]
     },
     "execution_count": 21,
     "metadata": {},
     "output_type": "execute_result"
    },
    {
     "data": {
      "image/png": "[encoded data removed]",
      "text/plain": [
       "<Figure size 640x480 with 1 Axes>"
      ]
     },
     "metadata": {},
     "output_type": "display_data"
    },
    {
     "data": {
      "image/png": "[encoded data removed]",
      "text/plain": [
       "<Figure size 640x480 with 1 Axes>"
      ]
     },
     "metadata": {},
     "output_type": "display_data"
    }
   ],
   "source": [
    "import matplotlib.pyplot as plt\n",
    "\n",
    "accuracy = history.history[\"accuracy\"]\n",
    "val_acc = history.history[\"val_accuracy\"]\n",
    "\n",
    "val_loss = history.history['val_loss']\n",
    "loss= history.history['loss']\n",
    "\n",
    "epochs = range(len(accuracy))\n",
    "\n",
    "plt.plot(epochs, accuracy, 'b', label = 'accuracy')\n",
    "plt.plot(epochs, val_acc, 'bo', label = 'val_accuracy')\n",
    "\n",
    "plt.legend()\n",
    "plt.figure()\n",
    "\n",
    "plt.plot(epochs, val_loss, 'bo', label = 'val_loss')\n",
    "plt.plot(epochs, loss, 'b', label= 'loss')\n",
    "plt.legend()\n",
    "\n",
    "\n",
    "\n",
    "\n",
    "\n"
   ]
  },
  {
   "cell_type": "code",
   "execution_count": null,
   "metadata": {},
   "outputs": [],
   "source": []
  }
 ],
 "metadata": {
  "kernelspec": {
   "display_name": "Python 3",
   "language": "python",
   "name": "python3"
  },
  "language_info": {
   "codemirror_mode": {
    "name": "ipython",
    "version": 3
   },
   "file_extension": ".py",
   "mimetype": "text/x-python",
   "name": "python",
   "nbconvert_exporter": "python",
   "pygments_lexer": "ipython3",
   "version": "3.10.9"
  }
 },
 "nbformat": 4,
 "nbformat_minor": 2
}
